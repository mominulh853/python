{
  "nbformat": 4,
  "nbformat_minor": 0,
  "metadata": {
    "colab": {
      "provenance": []
    },
    "kernelspec": {
      "name": "python3",
      "display_name": "Python 3"
    },
    "language_info": {
      "name": "python"
    }
  },
  "cells": [
    {
      "cell_type": "code",
      "execution_count": null,
      "metadata": {
        "colab": {
          "base_uri": "https://localhost:8080/"
        },
        "id": "-6rIY-F6nHOe",
        "outputId": "96e614c6-8377-48f9-aecb-72fb70346f94"
      },
      "outputs": [
        {
          "output_type": "stream",
          "name": "stdout",
          "text": [
            "Enter a 1st number:12\n",
            "Enter a 2nd number:13\n",
            "Enter a 3rd number:14\n",
            "sum of three number: 39.0\n",
            "Average of three number: 13.0\n"
          ]
        }
      ],
      "source": [
        "# 1.\tWrite a program in Python to find the addition & average of three float numbers.\n",
        "\n",
        "a=float(input('Enter a 1st number:'))\n",
        "b=float(input('Enter a 2nd number:'))\n",
        "c=float(input('Enter a 3rd number:'))\n",
        "sum=a+b+c\n",
        "print('sum of three number:',sum)\n",
        "print('Average of three number:',sum/3)"
      ]
    },
    {
      "cell_type": "code",
      "source": [
        "# 2.\tWrite a program in Python to find the volume of a sphere with radius  6cm.\n",
        "r=6\n",
        "v=4/3*3.142*pow(r,3)\n",
        "print(\"voluam of sphear:\",v)\n"
      ],
      "metadata": {
        "colab": {
          "base_uri": "https://localhost:8080/"
        },
        "id": "XZHCtewGoWfG",
        "outputId": "7ab7e082-00af-4104-bd8c-cf89a40369b0"
      },
      "execution_count": null,
      "outputs": [
        {
          "output_type": "stream",
          "name": "stdout",
          "text": [
            "voluam of sphear: 904.896\n"
          ]
        }
      ]
    },
    {
      "cell_type": "code",
      "source": [
        "# 3.Write a program in Python to find the area of a circle.\n",
        "r=float(input(\"Enter the circle radius:\"))\n",
        "area=3.143*pow(r,2)\n",
        "print(\"Area of a circle:\",area)"
      ],
      "metadata": {
        "colab": {
          "base_uri": "https://localhost:8080/"
        },
        "id": "85mJUDxCpBp9",
        "outputId": "4e972fa1-da58-4631-a741-74f627ead530"
      },
      "execution_count": null,
      "outputs": [
        {
          "output_type": "stream",
          "name": "stdout",
          "text": [
            "Enter the circle radius:5.5\n",
            "Area of a circle: 95.07575\n"
          ]
        }
      ]
    },
    {
      "cell_type": "code",
      "source": [
        "# 4.\tWrite a program in Python to compute simple Interest.\n",
        "p=float(input(\"Enter the princple amount:\"))\n",
        "r=float(input(\"Enter the intrest rate:\"))\n",
        "t=float(input(\"Enter the time priod:\"))\n",
        "i=p*r*t/100\n",
        "print(\"Simple interst:\",i)"
      ],
      "metadata": {
        "colab": {
          "base_uri": "https://localhost:8080/"
        },
        "id": "T4NLo9EVpWkn",
        "outputId": "21d1f8c7-f92c-4e7a-da59-32db52a10348"
      },
      "execution_count": null,
      "outputs": [
        {
          "output_type": "stream",
          "name": "stdout",
          "text": [
            "Enter the princple amount:4500\n",
            "Enter the intrest rate:5.4\n",
            "Enter the time priod:2\n",
            "Simple interst: 486.0\n"
          ]
        }
      ]
    },
    {
      "cell_type": "code",
      "source": [
        "# 5.\tWrite a program in Python to swap two numbers without using third variable\n",
        "a=int(input(\"Enter a 1st number:\"))\n",
        "b=int(input(\"Enter 2nd number:\"))\n",
        "a=a+b\n",
        "b=a-b\n",
        "a=a-b\n",
        "print(\"After swaping the number:\",a,b)"
      ],
      "metadata": {
        "colab": {
          "base_uri": "https://localhost:8080/"
        },
        "id": "y-8FzcG6ps_1",
        "outputId": "ea8068bf-67fd-4b9a-e299-b5b4bb5ff416"
      },
      "execution_count": null,
      "outputs": [
        {
          "output_type": "stream",
          "name": "stdout",
          "text": [
            "Enter a 1st number:12\n",
            "Enter 2nd number:4\n",
            "After swaping the number: 4 12\n"
          ]
        }
      ]
    },
    {
      "cell_type": "code",
      "source": [
        "# 6.\tWrite a program in Python to convert any temperature from Celcius to Fahrenheit\n",
        "c=float(input(\"Enter a temppture in celcuis:\"))\n",
        "f=(c*9/5)+32\n",
        "print(\"Tempture in fahrenheit:\",f)"
      ],
      "metadata": {
        "colab": {
          "base_uri": "https://localhost:8080/"
        },
        "id": "-6Bb9phIqEqL",
        "outputId": "47a7ff45-0b9f-48a8-a692-0e3d49f81e9d"
      },
      "execution_count": null,
      "outputs": [
        {
          "output_type": "stream",
          "name": "stdout",
          "text": [
            "Enter a temppture in celcuis:35\n",
            "Tempture in fahrenheit: 95.0\n"
          ]
        }
      ]
    },
    {
      "cell_type": "code",
      "source": [
        "# 7.\tWrite a program in Python to convert a given number of days into days, month, year and week.\n",
        "def convert_days(days):\n",
        "    years = days // 365\n",
        "    days_remaining = days % 365\n",
        "    months = days_remaining // 30\n",
        "    days_remaining = days_remaining % 30\n",
        "    weeks = days_remaining // 7\n",
        "    days_remaining = days_remaining % 7\n",
        "\n",
        "    return years, months, weeks, days_remaining\n",
        "\n",
        "total_days = int(input(\"Enter the number of days: \"))\n",
        "years, months, weeks, days = convert_days(total_days)\n",
        "\n",
        "print(f\"{total_days} days is approximately {years} years, {months} months, {weeks} weeks, and {days} days.\")\n"
      ],
      "metadata": {
        "id": "ownqoNM7D-Wp",
        "colab": {
          "base_uri": "https://localhost:8080/"
        },
        "outputId": "b1a89bf9-5925-47d6-b62d-48d185cc405e"
      },
      "execution_count": 1,
      "outputs": [
        {
          "output_type": "stream",
          "name": "stdout",
          "text": [
            "Enter the number of days: 3665\n",
            "3665 days is approximately 10 years, 0 months, 2 weeks, and 1 days.\n"
          ]
        }
      ]
    },
    {
      "cell_type": "code",
      "source": [
        " #8.\tWrite a Python Program to find the gravitational force acting between two objects.[G=N*(m1*m2)/d^2]\n",
        "g=6.67430e-11\n",
        "m1=float(input(\"Enter the mass of fast object:\"))\n",
        "m2=float(input(\"Enter the mass of second object:\"))\n",
        "d=float(input(\"Enter the distance between two objwct:\"))\n",
        "G=(g*m1*m2)/(pow(d,2))\n",
        "print(\"Gravitional Force between two object:\",G)"
      ],
      "metadata": {
        "colab": {
          "base_uri": "https://localhost:8080/"
        },
        "id": "vYITgfFEFlSc",
        "outputId": "d623ff9c-0dee-4ecb-a9c9-ab6f73db3906"
      },
      "execution_count": 2,
      "outputs": [
        {
          "output_type": "stream",
          "name": "stdout",
          "text": [
            "Enter the mass of fast object:22\n",
            "Enter the mass of second object:12\n",
            "Enter the distance between two objwct:5\n",
            "Gravitional Force between two object: 7.048060799999999e-10\n"
          ]
        }
      ]
    },
    {
      "cell_type": "code",
      "source": [
        "#9.\tWrite a program in Python to find given no is Even or Odd.\n",
        "num=int(input(\"Enter a number:\"))\n",
        "if(num%2==0):\n",
        " print(\"Even number\")\n",
        "else:\n",
        " print(\"Odd number\")"
      ],
      "metadata": {
        "colab": {
          "base_uri": "https://localhost:8080/"
        },
        "id": "zg6stMnfGCb1",
        "outputId": "7146a3e7-ac05-47f2-ec37-8557e7bc3238"
      },
      "execution_count": 3,
      "outputs": [
        {
          "output_type": "stream",
          "name": "stdout",
          "text": [
            "Enter a number:7\n",
            "Odd number\n"
          ]
        }
      ]
    },
    {
      "cell_type": "code",
      "source": [
        "# 10.\tTake input from user if it is greater than 15 print two times of difference if it’s less than 15 print four times of difference.\n",
        "num = int(input(\"Enter a number: \"))\n",
        "if num > 15:\n",
        "  print(2 * (num - 15))\n",
        "else:\n",
        "  print(4 * (15 - num))"
      ],
      "metadata": {
        "colab": {
          "base_uri": "https://localhost:8080/"
        },
        "id": "cWTGmjLHGmhr",
        "outputId": "6d4defde-1159-4eab-e77b-cc92b6832d44"
      },
      "execution_count": 4,
      "outputs": [
        {
          "output_type": "stream",
          "name": "stdout",
          "text": [
            "Enter a number: 123\n",
            "216\n"
          ]
        }
      ]
    },
    {
      "cell_type": "code",
      "source": [
        "#11.\tWrite a program in Python to find largest among three numbers.\n",
        "a=int(input(\"Enter a 1st number:\"))\n",
        "b=int(input(\"enter a 2nd number:\"))\n",
        "c=int(input(\"enter a 3rd number:\"))\n",
        "print(\"Largest number :\",max(a,b,c))"
      ],
      "metadata": {
        "colab": {
          "base_uri": "https://localhost:8080/"
        },
        "id": "s10BN63qG1Le",
        "outputId": "ed753946-f467-4a9f-f318-fecd8f15d349"
      },
      "execution_count": 5,
      "outputs": [
        {
          "output_type": "stream",
          "name": "stdout",
          "text": [
            "Enter a 1st number:12\n",
            "enter a 2nd number:45\n",
            "enter a 3rd number:23\n",
            "Largest number : 45\n"
          ]
        }
      ]
    },
    {
      "cell_type": "code",
      "source": [
        "#12.\tWrite a program in Python to check a triangle is equilateral,scalene or isosclees..\n",
        "\n",
        "a = float(input(\"Enter the length of side a: \"))\n",
        "b = float(input(\"Enter the length of side b: \"))\n",
        "c = float(input(\"Enter the length of side c: \"))\n",
        "\n",
        "\n",
        "if a == b == c:\n",
        "    print(\"The triangle is equilateral.\")\n",
        "\n",
        "elif a == b or a == c or b == c:\n",
        "    print(\"The triangle is isosceles.\")\n",
        "\n",
        "else:\n",
        "    print(\"The triangle is scalene.\")"
      ],
      "metadata": {
        "colab": {
          "base_uri": "https://localhost:8080/"
        },
        "id": "ZnrofPFBHL1R",
        "outputId": "c6ea9c15-2f57-487b-ea12-999907a302a6"
      },
      "execution_count": 6,
      "outputs": [
        {
          "output_type": "stream",
          "name": "stdout",
          "text": [
            "Enter the length of side a: 21\n",
            "Enter the length of side b: 10\n",
            "Enter the length of side c: 5\n",
            "The triangle is scalene.\n"
          ]
        }
      ]
    },
    {
      "cell_type": "code",
      "source": [
        "#13.\tWrite a program in Python to check a given year is leapyear or not.\n",
        "def is_leap_year(year):\n",
        "  if year % 4 == 0:\n",
        "    if year % 100 == 0:\n",
        "      if year % 400 == 0:\n",
        "        return True\n",
        "      else:\n",
        "        return False\n",
        "    else:\n",
        "      return True\n",
        "  else:\n",
        "    return False\n",
        "\n",
        "year = int(input(\"Enter a year: \"))\n",
        "if is_leap_year(year):\n",
        "  print(year, \"is a leap year\")\n",
        "else:\n",
        "  print(year, \"is not a leap year\")"
      ],
      "metadata": {
        "colab": {
          "base_uri": "https://localhost:8080/"
        },
        "id": "QW6qZyPhH2y9",
        "outputId": "bab675ea-42bb-41af-a37e-cb149d5ae398"
      },
      "execution_count": 7,
      "outputs": [
        {
          "output_type": "stream",
          "name": "stdout",
          "text": [
            "Enter a year: 2024\n",
            "2024 is a leap year\n"
          ]
        }
      ]
    },
    {
      "cell_type": "code",
      "source": [
        "# 14.\tTake marks of a student of four different subject find average depending on average find Grade(if marks >=75 i.e,’A’ or >=60 but <=75 i.e,’B’ or >=40 but <=60 i.e,’C’ or <=40 i.e,’D’).\n",
        "sub1=float(input(\"Enter a number of CA: \"))\n",
        "sub2=float(input(\"Enter a number of Python: \"))\n",
        "sub3=float(input(\"Enter a number of CN: \"))\n",
        "sub4=float(input(\"Enter a number of SE: \"))\n",
        "avg=(sub1+sub2+sub3+sub4)/4\n",
        "print(\"Average  of all four  subject: \",avg,\"%\")\n",
        "if(avg>=75):\n",
        "    print(\"Grade: A\")\n",
        "elif(avg>=60 & avg<75): # type: ignore\n",
        "    print(\"Grade: B\")\n",
        "elif(avg>=40 & avg<60): #type: ignore\n",
        "    print(\"Grade: C\")\n",
        "elif(avg<40):\n",
        "    print(\"Grade: D\")"
      ],
      "metadata": {
        "colab": {
          "base_uri": "https://localhost:8080/"
        },
        "id": "Jbc3C_sbIIAU",
        "outputId": "baeb4e05-4de8-4e18-ad2b-c5874cc7a43c"
      },
      "execution_count": 8,
      "outputs": [
        {
          "output_type": "stream",
          "name": "stdout",
          "text": [
            "Enter a number of CA: 85\n",
            "Enter a number of Python: 75\n",
            "Enter a number of CN: 84\n",
            "Enter a number of SE: 85\n",
            "Average  of all four  subject:  82.25 %\n",
            "Grade: A\n"
          ]
        }
      ]
    },
    {
      "cell_type": "code",
      "source": [
        "#15.\tWrite a program in Python to implement a simple calculator\n",
        "a=int(input(\"Enter a 1st number:\"))\n",
        "b=int(input(\"enter 2nd number:\"))\n",
        "c=int(input(\"Enter a choice:\"))\n",
        "if(c==1):\n",
        " print(\"Addition:\",a+b)\n",
        "elif(c==2):\n",
        " print(\"Substraction:\",a-b)\n",
        "elif(c==3):\n",
        " print(\"Division:\",a/b)\n",
        "elif(c==4):\n",
        " print(\"Multiplication:\",a*b)\n",
        "else:\n",
        " print(\"Enter the correct choice.\")"
      ],
      "metadata": {
        "colab": {
          "base_uri": "https://localhost:8080/"
        },
        "id": "pxSqsGkCQLQP",
        "outputId": "dce6f994-3d1a-43f0-ec29-7985633d013b"
      },
      "execution_count": 10,
      "outputs": [
        {
          "output_type": "stream",
          "name": "stdout",
          "text": [
            "Enter a 1st number:5\n",
            "enter 2nd number:5\n",
            "Enter a choice:1\n",
            "Addition: 10\n"
          ]
        }
      ]
    },
    {
      "cell_type": "code",
      "source": [
        "#16.\tWrite a program in Python to find the roots of Quadratic equation.\n",
        "import cmath\n",
        "\n",
        "a = float(input(\"Enter the coefficient of x^2: \"))\n",
        "b = float(input(\"Enter the coefficient of x: \"))\n",
        "c = float(input(\"Enter the constant term: \"))\n",
        "\n",
        "delta = (b**2) - 4*(a*c)\n",
        "\n",
        "if delta >= 0:\n",
        "    x1 = (-b - delta**0.5) / (2*a)\n",
        "    x2 = (-b + delta**0.5) / (2*a)\n",
        "else:\n",
        "    x1 = (-b - cmath.sqrt(delta)) / (2 * a)\n",
        "    x2 = (-b + cmath.sqrt(delta)) / (2 * a)\n",
        "\n",
        "\n",
        "if delta > 0:\n",
        "    print(\"The roots are real and different: \", x1, x2)\n",
        "elif delta == 0:\n",
        "    print(\"The roots are real and same: \", x1)\n",
        "else:\n",
        "    print(\"The roots are complex: \", x1, x2)"
      ],
      "metadata": {
        "colab": {
          "base_uri": "https://localhost:8080/"
        },
        "id": "uR1fGNRkQtdT",
        "outputId": "52765862-de06-4bce-8d69-a9a925b33245"
      },
      "execution_count": 14,
      "outputs": [
        {
          "output_type": "stream",
          "name": "stdout",
          "text": [
            "Enter the coefficient of x^2: 5\n",
            "Enter the coefficient of x: 2\n",
            "Enter the constant term: 3\n",
            "The roots are complex:  (-0.2-0.7483314773547882j) (-0.2+0.7483314773547882j)\n"
          ]
        }
      ]
    },
    {
      "cell_type": "code",
      "source": [
        "#17.\tWrite a program in Python to print 1 to n.\n",
        "n=int(input(\"Enter the range to print:\"))\n",
        "a=0\n",
        "for i in range(n):\n",
        "    i=i+1\n",
        "    print(\"Natural number are:\",i)"
      ],
      "metadata": {
        "colab": {
          "base_uri": "https://localhost:8080/"
        },
        "id": "-mB56PuaRh6o",
        "outputId": "eebf04cd-8417-4fba-d2ad-0c6fb1a65390"
      },
      "execution_count": 17,
      "outputs": [
        {
          "output_type": "stream",
          "name": "stdout",
          "text": [
            "Enter the range to print:10\n",
            "Natural number are: 1\n",
            "Natural number are: 2\n",
            "Natural number are: 3\n",
            "Natural number are: 4\n",
            "Natural number are: 5\n",
            "Natural number are: 6\n",
            "Natural number are: 7\n",
            "Natural number are: 8\n",
            "Natural number are: 9\n",
            "Natural number are: 10\n"
          ]
        }
      ]
    },
    {
      "cell_type": "code",
      "source": [
        "# 18.\tWrite a program in Python to print sum of natural number.\n",
        "n=int(input(\"Enter the range to print:\"))\n",
        "a=0\n",
        "for i in range(n):\n",
        "    i=i+1\n",
        "    a=a+i\n",
        "    print(\"Natural number are:\",i)\n",
        "print(\"Addition of natural number:\",a)"
      ],
      "metadata": {
        "colab": {
          "base_uri": "https://localhost:8080/"
        },
        "id": "JbAuKq1vS1dl",
        "outputId": "120fa1de-25af-4cdc-9d3b-6bf3e97a8de6"
      },
      "execution_count": 18,
      "outputs": [
        {
          "output_type": "stream",
          "name": "stdout",
          "text": [
            "Enter the range to print:5\n",
            "Natural number are: 1\n",
            "Natural number are: 2\n",
            "Natural number are: 3\n",
            "Natural number are: 4\n",
            "Natural number are: 5\n",
            "Addition of natural number: 15\n"
          ]
        }
      ]
    },
    {
      "cell_type": "code",
      "source": [
        "# 19.\tWrite a program in Python to print Sum of Digit\n",
        "num=input(\"Enter a digit:\")\n",
        "s=0\n",
        "for i in num:\n",
        "    s=s+int(i)\n",
        "print(s)"
      ],
      "metadata": {
        "colab": {
          "base_uri": "https://localhost:8080/"
        },
        "id": "70CG5OyTTDfF",
        "outputId": "7574d0e0-6687-4e0d-a635-360e3916e88e"
      },
      "execution_count": 19,
      "outputs": [
        {
          "output_type": "stream",
          "name": "stdout",
          "text": [
            "Enter a digit:12\n",
            "3\n"
          ]
        }
      ]
    },
    {
      "cell_type": "code",
      "source": [
        "#20.\tWrite a program in Python to print Factors of a Number.\n",
        "n=int(input(\"Enter the number:\"))\n",
        "for i in range(n):\n",
        "    i=i+1\n",
        "    if(n%i==0):\n",
        "        print(i)"
      ],
      "metadata": {
        "colab": {
          "base_uri": "https://localhost:8080/"
        },
        "id": "ubuyo7NTTVhY",
        "outputId": "3b05b18f-5bc8-49c7-a716-e4e57508933c"
      },
      "execution_count": 20,
      "outputs": [
        {
          "output_type": "stream",
          "name": "stdout",
          "text": [
            "Enter the number:10\n",
            "1\n",
            "2\n",
            "5\n",
            "10\n"
          ]
        }
      ]
    },
    {
      "cell_type": "code",
      "source": [
        "#21.\tWrite a program in Python to print Reverse of a Number.\n",
        "num=int(input(\"Enter a number:\"))\n",
        "r=0\n",
        "while num > 0:\n",
        "    remainder = num % 10\n",
        "    r= (r * 10) + remainder\n",
        "    num = num // 10\n",
        "print(r)"
      ],
      "metadata": {
        "colab": {
          "base_uri": "https://localhost:8080/"
        },
        "id": "FDiyjZTITkCi",
        "outputId": "3fb2490b-31b1-4680-c7de-b4a58cc6602e"
      },
      "execution_count": 21,
      "outputs": [
        {
          "output_type": "stream",
          "name": "stdout",
          "text": [
            "Enter a number:123\n",
            "321\n"
          ]
        }
      ]
    },
    {
      "cell_type": "code",
      "source": [
        "#22.\tWrite a Python program to find Factorial of a given number.\n",
        "num=int(input(\"Enter a number:\"))\n",
        "s=1\n",
        "for i in range(num):\n",
        "    i=i+1\n",
        "    s=s*i\n",
        "print(\"Factorial of a number:\",s)"
      ],
      "metadata": {
        "colab": {
          "base_uri": "https://localhost:8080/"
        },
        "id": "RHOn9hO0Txlp",
        "outputId": "57b2f2ee-8582-4b78-fc65-2c1db8ec8f8a"
      },
      "execution_count": 22,
      "outputs": [
        {
          "output_type": "stream",
          "name": "stdout",
          "text": [
            "Enter a number:5\n",
            "Factorial of a number: 120\n"
          ]
        }
      ]
    },
    {
      "cell_type": "code",
      "source": [
        "#23.\tWrite a Python program to check a number is palindrome or not.\n",
        "num=int(input(\"Enter a number:\"))\n",
        "p=num\n",
        "r=0\n",
        "while num > 0:\n",
        "    remainder = num % 10\n",
        "    r= (r * 10) + remainder\n",
        "    num = num // 10\n",
        "if(p==r):\n",
        "    print(\"Number is palindrome\")\n",
        "else:\n",
        "    print(\"Not palindrome\")"
      ],
      "metadata": {
        "colab": {
          "base_uri": "https://localhost:8080/"
        },
        "id": "nua7YHQeUAO5",
        "outputId": "856ad828-fb51-4d32-d37d-41241534a46d"
      },
      "execution_count": 23,
      "outputs": [
        {
          "output_type": "stream",
          "name": "stdout",
          "text": [
            "Enter a number:121\n",
            "Number is palindrome\n"
          ]
        }
      ]
    },
    {
      "cell_type": "code",
      "source": [
        "#24.\tWrite a Python program to check a number is prime or not.\n",
        "n=int(input(\"Enter the number:\"))\n",
        "a=0\n",
        "for i in range(1,n+1):\n",
        "\n",
        "    if(n%i==0):\n",
        "      a+=1\n",
        "if(a==2):\n",
        "   print(\"Prime number\")\n",
        "else:\n",
        "  print(\"not Prime number\")"
      ],
      "metadata": {
        "colab": {
          "base_uri": "https://localhost:8080/"
        },
        "id": "thc-byW2UNEd",
        "outputId": "dba4496b-040d-4e51-88a4-8a17f16ce1fa"
      },
      "execution_count": 24,
      "outputs": [
        {
          "output_type": "stream",
          "name": "stdout",
          "text": [
            "Enter the number:7\n",
            "Prime number\n"
          ]
        }
      ]
    },
    {
      "cell_type": "code",
      "source": [
        "#25.\tWrite a Python program to check a number is Armstrong or not.\n",
        "num=int(input(\"Enter a number:\"))\n",
        "p=num\n",
        "sum=0\n",
        "while num>0:\n",
        "    r=num%10\n",
        "    sum=sum+(r*r*r)\n",
        "    num=num//10\n",
        "if(p==sum):\n",
        "    print(sum,\" Armstrong number\")\n",
        "else:\n",
        "    print(sum,\" Not Armstrong number\")"
      ],
      "metadata": {
        "colab": {
          "base_uri": "https://localhost:8080/"
        },
        "id": "-VmWLTq6UYUD",
        "outputId": "c659562a-7180-4b01-ac3d-f7f44fc16a37"
      },
      "execution_count": 25,
      "outputs": [
        {
          "output_type": "stream",
          "name": "stdout",
          "text": [
            "Enter a number:153\n",
            "153  Armstrong number\n"
          ]
        }
      ]
    },
    {
      "cell_type": "code",
      "source": [
        "#26.\tWrite a Python program to print Fibonacci series of n term\n",
        "num=int(input(\"Enter a number:\"))\n",
        "n1=0\n",
        "n2=1\n",
        "print(n1)\n",
        "print(n2)\n",
        "for i in range(2,num):\n",
        "    n3=n1+n2\n",
        "    print(n3)\n",
        "    n1=n2\n",
        "    n2=n3"
      ],
      "metadata": {
        "colab": {
          "base_uri": "https://localhost:8080/"
        },
        "id": "ScuzaD0_Uk5v",
        "outputId": "783325d2-7ef1-46c2-f531-4e33077ea035"
      },
      "execution_count": 26,
      "outputs": [
        {
          "output_type": "stream",
          "name": "stdout",
          "text": [
            "Enter a number:5\n",
            "0\n",
            "1\n",
            "1\n",
            "2\n",
            "3\n"
          ]
        }
      ]
    },
    {
      "cell_type": "code",
      "source": [
        "#27.\tWrite a Python program to implement multiplication table.\n",
        "num1=int(input(\"Enter which number multiplication table you want:\"))\n",
        "num2=1\n",
        "while num2<=10:\n",
        "    r=num2*num1\n",
        "    print(num2,\"x\",num1,\"=\",r)\n",
        "    num2+=1"
      ],
      "metadata": {
        "colab": {
          "base_uri": "https://localhost:8080/"
        },
        "id": "vm0ddgyJUuGv",
        "outputId": "2a0fcdee-e4b3-4f7c-b76a-34d8e4ad2ffb"
      },
      "execution_count": 27,
      "outputs": [
        {
          "output_type": "stream",
          "name": "stdout",
          "text": [
            "Enter which number multiplication table you want:5\n",
            "1 x 5 = 5\n",
            "2 x 5 = 10\n",
            "3 x 5 = 15\n",
            "4 x 5 = 20\n",
            "5 x 5 = 25\n",
            "6 x 5 = 30\n",
            "7 x 5 = 35\n",
            "8 x 5 = 40\n",
            "9 x 5 = 45\n",
            "10 x 5 = 50\n"
          ]
        }
      ]
    },
    {
      "cell_type": "code",
      "source": [
        "#28.\tWrite a Python program to take a input from user in a list and print it.\n",
        "n=int(input(\"Enter the number of element do you want to print:\"))\n",
        "list=[]\n",
        "for i in range(n):\n",
        "    list_element=input(\"Enter the list element:\")\n",
        "    list.append(list_element)\n",
        "print(\"list is:\",list)"
      ],
      "metadata": {
        "colab": {
          "base_uri": "https://localhost:8080/"
        },
        "id": "-XH_cmGkVBhC",
        "outputId": "0116d550-ae43-4be8-914d-0eb626b2f318"
      },
      "execution_count": 28,
      "outputs": [
        {
          "output_type": "stream",
          "name": "stdout",
          "text": [
            "Enter the number of element do you want to print:4\n",
            "Enter the list element:21\n",
            "Enter the list element:4\n",
            "Enter the list element:3\n",
            "Enter the list element:9\n",
            "list is: ['21', '4', '3', '9']\n"
          ]
        }
      ]
    },
    {
      "cell_type": "code",
      "source": [
        "# 29.\tWrite a Python program to find the average of n numbers using list.\n",
        "from statistics import mean\n",
        "n=int(input(\"Enter the number of element do you want to print:\"))\n",
        "list=[]\n",
        "sum=0\n",
        "for i in range(n):\n",
        "    element=int(input(\"Enter the list element:\"))\n",
        "    list.append(element)\n",
        "print(\"list:\",list)\n",
        "Average=mean(list)\n",
        "print(\"Average of n number using list:\",Average)"
      ],
      "metadata": {
        "colab": {
          "base_uri": "https://localhost:8080/"
        },
        "id": "RP-Y0sI5Vd4_",
        "outputId": "0894ddb7-079a-43f2-b5b2-5036a11ae56c"
      },
      "execution_count": 29,
      "outputs": [
        {
          "output_type": "stream",
          "name": "stdout",
          "text": [
            "Enter the number of element do you want to print:5\n",
            "Enter the list element:1\n",
            "Enter the list element:2\n",
            "Enter the list element:3\n",
            "Enter the list element:4\n",
            "Enter the list element:5\n",
            "list: [1, 2, 3, 4, 5]\n",
            "Average of n number using list: 3\n"
          ]
        }
      ]
    },
    {
      "cell_type": "code",
      "source": [
        "# 30.\tWrite a Python program to find the largest element in the list.\n",
        "n=int(input(\"Enter the number of element do you want to print:\"))\n",
        "list=[]\n",
        "for i in range(n):\n",
        "    element=int(input(\"Enter the list element:\"))\n",
        "    list.append(element)\n",
        "print(\"list is:\",list)\n",
        "Largest_element=max(list)\n",
        "print(\"Largest element of a list:\",Largest_element)"
      ],
      "metadata": {
        "colab": {
          "base_uri": "https://localhost:8080/"
        },
        "id": "8CEvnEqdV1Bu",
        "outputId": "e53004ca-5e32-43c4-ac88-f31e544998ef"
      },
      "execution_count": 31,
      "outputs": [
        {
          "output_type": "stream",
          "name": "stdout",
          "text": [
            "Enter the number of element do you want to print:5\n",
            "Enter the list element:85\n",
            "Enter the list element:40\n",
            "Enter the list element:10\n",
            "Enter the list element:23\n",
            "Enter the list element:54\n",
            "list is: [85, 40, 10, 23, 54]\n",
            "Largest element of a list: 85\n"
          ]
        }
      ]
    },
    {
      "cell_type": "code",
      "source": [
        "#31.\tWrite a Python program to perform Linear search.\n",
        "def linear_Search(list1, n, key):\n",
        "\n",
        "    # Searching list1 sequentially\n",
        "    for i in range(0, n):\n",
        "        if (list1[i] == key):\n",
        "            return i\n",
        "    return -1\n",
        "\n",
        "n=int(input(\"Enter the number of element do you want to print:\"))\n",
        "list1=[]\n",
        "for i in range(n):\n",
        "    element=int(input(\"Enter the list element:\"))\n",
        "    list1.append(element)\n",
        "print(\"list is:\",list1)\n",
        "\n",
        "key=int(input(\"Enter which number you want to find:\"))\n",
        "\n",
        "n = len(list1)\n",
        "res = linear_Search(list1, n, key)\n",
        "if(res == -1):\n",
        "    print(\"Element not found\")\n",
        "else:\n",
        "    print(\"Element found at index: \", res)"
      ],
      "metadata": {
        "colab": {
          "base_uri": "https://localhost:8080/"
        },
        "id": "c1W6-tN7WRTv",
        "outputId": "570d41d8-a93b-460f-b030-1502aafb4444"
      },
      "execution_count": 32,
      "outputs": [
        {
          "output_type": "stream",
          "name": "stdout",
          "text": [
            "Enter the number of element do you want to print:4\n",
            "Enter the list element:1\n",
            "Enter the list element:2\n",
            "Enter the list element:3\n",
            "Enter the list element:4\n",
            "list is: [1, 2, 3, 4]\n",
            "Enter which number you want to find:3\n",
            "Element found at index:  2\n"
          ]
        }
      ]
    },
    {
      "cell_type": "code",
      "source": [
        "#32.\tWrite a program that accepts sequence of lines as input and prints the lines after making all characters in the sentence capitalized.\n",
        "s1=input(\"Enter a sentance:\")\n",
        "print(\"Sentance is:\",s1.upper())"
      ],
      "metadata": {
        "colab": {
          "base_uri": "https://localhost:8080/"
        },
        "id": "526xvs86Wk7R",
        "outputId": "ca49bea9-4fd7-46b7-a56f-2727720c700c"
      },
      "execution_count": 33,
      "outputs": [
        {
          "output_type": "stream",
          "name": "stdout",
          "text": [
            "Enter a sentance:sayan mandal\n",
            "Sentance is: SAYAN MANDAL\n"
          ]
        }
      ]
    },
    {
      "cell_type": "code",
      "source": [
        "# 33.\tWrite a program which accepts a sequence of comma‐separated numbers from console and generate a list and a tuple which contains every number.\n",
        "s=input(\"Enter a number\")\n",
        "line=s.split(\",\")\n",
        "print(line)"
      ],
      "metadata": {
        "colab": {
          "base_uri": "https://localhost:8080/"
        },
        "id": "0-zuUWk0W-GS",
        "outputId": "cad46e71-f94b-40d7-8d0b-7198256139de"
      },
      "execution_count": 34,
      "outputs": [
        {
          "output_type": "stream",
          "name": "stdout",
          "text": [
            "Enter a number1,2,3,4,5\n",
            "['1', '2', '3', '4', '5']\n"
          ]
        }
      ]
    },
    {
      "cell_type": "markdown",
      "source": [
        "34.\tWrite a program that computes the net amount of a bank account based a transaction log from console input. The transaction log format is shown as following:\n",
        "D 100\n",
        "W 200\n",
        "¡\n",
        "D means deposit while W means withdrawal.\n",
        "Suppose the following input is supplied to the program:\n",
        "D 300\n",
        "D 300\n",
        "W 200\n",
        "D 100\n",
        "Then, the output should be:\n",
        "500"
      ],
      "metadata": {
        "id": "y3DkaLG6Za8y"
      }
    },
    {
      "cell_type": "code",
      "source": [
        "\n",
        "\n",
        "net_amount = 0\n",
        "\n",
        "while True:\n",
        "    transaction = input(\"Enter transaction (D amount/W amount/! to end): \")\n",
        "\n",
        "    if transaction == '!':\n",
        "        break\n",
        "\n",
        "    transaction_type, amount = transaction.split()\n",
        "    amount = int(amount)\n",
        "\n",
        "    if transaction_type == 'D':\n",
        "        net_amount += amount\n",
        "    elif transaction_type == 'W':\n",
        "        net_amount -= amount\n",
        "\n",
        "print(\"Net amount:\", net_amount)\n"
      ],
      "metadata": {
        "colab": {
          "base_uri": "https://localhost:8080/"
        },
        "id": "7W-lxHAeXjK-",
        "outputId": "2ba1ad38-e984-4066-e5cd-816dadf1b623"
      },
      "execution_count": 43,
      "outputs": [
        {
          "output_type": "stream",
          "name": "stdout",
          "text": [
            "Enter transaction (D amount/W amount/! to end): D 100\n",
            "Enter transaction (D amount/W amount/! to end): W 200\n",
            "Enter transaction (D amount/W amount/! to end): !\n",
            "Net amount: -100\n"
          ]
        }
      ]
    }
  ]
}